{
 "cells": [
  {
   "cell_type": "markdown",
   "metadata": {},
   "source": [
    "# Set 1"
   ]
  },
  {
   "cell_type": "code",
   "execution_count": 1,
   "metadata": {},
   "outputs": [
    {
     "name": "stdout",
     "output_type": "stream",
     "text": [
      "Requirement already satisfied: numpy in c:\\users\\ktnlvr\\appdata\\local\\programs\\python\\python312\\lib\\site-packages (2.0.2)Note: you may need to restart the kernel to use updated packages.\n",
      "\n",
      "Requirement already satisfied: scipy in c:\\users\\ktnlvr\\appdata\\local\\programs\\python\\python312\\lib\\site-packages (1.14.1)\n",
      "Requirement already satisfied: plotly in c:\\users\\ktnlvr\\appdata\\local\\programs\\python\\python312\\lib\\site-packages (5.24.1)\n",
      "Requirement already satisfied: pandas in c:\\users\\ktnlvr\\appdata\\local\\programs\\python\\python312\\lib\\site-packages (2.2.3)\n",
      "Requirement already satisfied: nbformat in c:\\users\\ktnlvr\\appdata\\local\\programs\\python\\python312\\lib\\site-packages (5.10.4)\n",
      "Requirement already satisfied: cryptography in c:\\users\\ktnlvr\\appdata\\local\\programs\\python\\python312\\lib\\site-packages (43.0.1)\n",
      "Requirement already satisfied: tenacity>=6.2.0 in c:\\users\\ktnlvr\\appdata\\local\\programs\\python\\python312\\lib\\site-packages (from plotly) (9.0.0)\n",
      "Requirement already satisfied: packaging in c:\\users\\ktnlvr\\appdata\\roaming\\python\\python312\\site-packages (from plotly) (24.1)\n",
      "Requirement already satisfied: python-dateutil>=2.8.2 in c:\\users\\ktnlvr\\appdata\\roaming\\python\\python312\\site-packages (from pandas) (2.9.0.post0)\n",
      "Requirement already satisfied: pytz>=2020.1 in c:\\users\\ktnlvr\\appdata\\local\\programs\\python\\python312\\lib\\site-packages (from pandas) (2024.2)\n",
      "Requirement already satisfied: tzdata>=2022.7 in c:\\users\\ktnlvr\\appdata\\local\\programs\\python\\python312\\lib\\site-packages (from pandas) (2024.2)\n",
      "Requirement already satisfied: fastjsonschema>=2.15 in c:\\users\\ktnlvr\\appdata\\local\\programs\\python\\python312\\lib\\site-packages (from nbformat) (2.20.0)\n",
      "Requirement already satisfied: jsonschema>=2.6 in c:\\users\\ktnlvr\\appdata\\local\\programs\\python\\python312\\lib\\site-packages (from nbformat) (4.23.0)\n",
      "Requirement already satisfied: jupyter-core!=5.0.*,>=4.12 in c:\\users\\ktnlvr\\appdata\\roaming\\python\\python312\\site-packages (from nbformat) (5.7.2)\n",
      "Requirement already satisfied: traitlets>=5.1 in c:\\users\\ktnlvr\\appdata\\roaming\\python\\python312\\site-packages (from nbformat) (5.14.3)\n",
      "Requirement already satisfied: cffi>=1.12 in c:\\users\\ktnlvr\\appdata\\local\\programs\\python\\python312\\lib\\site-packages (from cryptography) (1.17.1)\n",
      "Requirement already satisfied: pycparser in c:\\users\\ktnlvr\\appdata\\local\\programs\\python\\python312\\lib\\site-packages (from cffi>=1.12->cryptography) (2.22)\n",
      "Requirement already satisfied: attrs>=22.2.0 in c:\\users\\ktnlvr\\appdata\\local\\programs\\python\\python312\\lib\\site-packages (from jsonschema>=2.6->nbformat) (24.2.0)\n",
      "Requirement already satisfied: jsonschema-specifications>=2023.03.6 in c:\\users\\ktnlvr\\appdata\\local\\programs\\python\\python312\\lib\\site-packages (from jsonschema>=2.6->nbformat) (2023.12.1)\n",
      "Requirement already satisfied: referencing>=0.28.4 in c:\\users\\ktnlvr\\appdata\\local\\programs\\python\\python312\\lib\\site-packages (from jsonschema>=2.6->nbformat) (0.35.1)\n",
      "Requirement already satisfied: rpds-py>=0.7.1 in c:\\users\\ktnlvr\\appdata\\local\\programs\\python\\python312\\lib\\site-packages (from jsonschema>=2.6->nbformat) (0.20.0)\n",
      "Requirement already satisfied: platformdirs>=2.5 in c:\\users\\ktnlvr\\appdata\\roaming\\python\\python312\\site-packages (from jupyter-core!=5.0.*,>=4.12->nbformat) (4.3.6)\n",
      "Requirement already satisfied: pywin32>=300 in c:\\users\\ktnlvr\\appdata\\roaming\\python\\python312\\site-packages (from jupyter-core!=5.0.*,>=4.12->nbformat) (306)\n",
      "Requirement already satisfied: six>=1.5 in c:\\users\\ktnlvr\\appdata\\roaming\\python\\python312\\site-packages (from python-dateutil>=2.8.2->pandas) (1.16.0)\n"
     ]
    }
   ],
   "source": [
    "%pip install numpy scipy plotly pandas nbformat cryptography"
   ]
  },
  {
   "cell_type": "code",
   "execution_count": 2,
   "metadata": {},
   "outputs": [],
   "source": [
    "import base64\n",
    "from string import ascii_letters, printable\n",
    "from collections import Counter\n",
    "import numpy as np"
   ]
  },
  {
   "cell_type": "code",
   "execution_count": 3,
   "metadata": {},
   "outputs": [],
   "source": [
    "hamlet = open(\"hamlet.txt\").read()\n",
    "\n",
    "def letter_freq(text) -> dict:\n",
    "    return dict(Counter([x.lower() for x in text if x in ascii_letters]))\n",
    "\n",
    "hamlet_freq = letter_freq(hamlet)\n",
    "hamlet_freq_arr = np.array(list(hamlet_freq.values()))"
   ]
  },
  {
   "cell_type": "markdown",
   "metadata": {},
   "source": [
    "## Challenge 1: Convert hex to base64"
   ]
  },
  {
   "cell_type": "code",
   "execution_count": 4,
   "metadata": {},
   "outputs": [
    {
     "data": {
      "text/plain": [
       "b'SSdtIGtpbGxpbmcgeW91ciBicmFpbiBsaWtlIGEgcG9pc29ub3VzIG11c2hyb29t'"
      ]
     },
     "execution_count": 4,
     "metadata": {},
     "output_type": "execute_result"
    }
   ],
   "source": [
    "string = \"49276d206b696c6c696e6720796f757220627261696e206c696b65206120706f69736f6e6f7573206d757368726f6f6d\"\n",
    "bs = bytes.fromhex(string)\n",
    "b64 = base64.b64encode(bs)\n",
    "b64"
   ]
  },
  {
   "cell_type": "markdown",
   "metadata": {},
   "source": [
    "## Challenge 2: Fixed XOR"
   ]
  },
  {
   "cell_type": "code",
   "execution_count": 5,
   "metadata": {},
   "outputs": [
    {
     "data": {
      "text/plain": [
       "'746865206b696420646f6e277420706c6179'"
      ]
     },
     "execution_count": 5,
     "metadata": {},
     "output_type": "execute_result"
    }
   ],
   "source": [
    "a = bytes.fromhex(\"1c0111001f010100061a024b53535009181c\")\n",
    "b = bytes.fromhex(\"686974207468652062756c6c277320657965\")\n",
    "\n",
    "bytes([a ^ b for a, b in zip(a, b)]).hex()"
   ]
  },
  {
   "cell_type": "markdown",
   "metadata": {},
   "source": [
    "## Challenge 3: Single-byte XOR cipher"
   ]
  },
  {
   "cell_type": "code",
   "execution_count": 6,
   "metadata": {},
   "outputs": [
    {
     "data": {
      "text/plain": [
       "b\"Cooking MC's like a pound of bacon\""
      ]
     },
     "execution_count": 6,
     "metadata": {},
     "output_type": "execute_result"
    }
   ],
   "source": [
    "import scipy.stats\n",
    "\n",
    "string = \"1b37373331363f78151b7f2b783431333d78397828372d363c78373e783a393b3736\"\n",
    "bs = bytes.fromhex(string)\n",
    "\n",
    "strings = []\n",
    "for ch in ascii_letters:\n",
    "    new = bytes([b ^ ord(ch) for b in bs])\n",
    "    strings.append(new)\n",
    "\n",
    "def score(bstr):\n",
    "    if any(chr(x) not in printable or chr(x) in \"{}()\" for x in bstr):\n",
    "        return -1\n",
    "\n",
    "    freq = letter_freq(bstr.decode(\"ascii\").lower())\n",
    "    freq_arr = np.array(list(freq.values()))\n",
    "    legit_text_statistic = len(bstr) - sum([1 for x in bstr if chr(x) not in ascii_letters + \".,?!' \"])\n",
    "    ks_test_2 = scipy.stats.ks_2samp(hamlet_freq_arr, freq_arr).pvalue ** 2\n",
    "    return legit_text_statistic / ks_test_2\n",
    "    \n",
    "\n",
    "strings.sort(key=score, reverse=True)\n",
    "strings[0]"
   ]
  },
  {
   "cell_type": "markdown",
   "metadata": {},
   "source": [
    "## Challenge 4: Detect single-character XOR"
   ]
  },
  {
   "cell_type": "code",
   "execution_count": 7,
   "metadata": {},
   "outputs": [
    {
     "data": {
      "text/plain": [
       "b'Now that the party is jumping\\n'"
      ]
     },
     "execution_count": 7,
     "metadata": {},
     "output_type": "execute_result"
    }
   ],
   "source": [
    "bs = [bytes.fromhex(line) for line in open(\"challenge-data/4.txt\").readlines()]\n",
    "\n",
    "c = set()\n",
    "def break_single_character_xor(bs):\n",
    "    ss = 100000\n",
    "    chh = 0\n",
    "    for ch in range(127):\n",
    "        new = bytes([b ^ ch for b in bs])\n",
    "        s = score(new)\n",
    "        c.add(s)\n",
    "        if s > ss:\n",
    "            ss = s\n",
    "            chh = ch\n",
    "    return ss, chh\n",
    "\n",
    "def decrypt_xor(s, k):\n",
    "    return bytes(b ^ k for b in s)\n",
    "\n",
    "guesses = []\n",
    "for line in bs:\n",
    "    s, ch = break_single_character_xor(line)\n",
    "    guesses.append((s, ch, line))\n",
    "guesses.sort(reverse=True)\n",
    "_, k, s = guesses[0]\n",
    "\n",
    "decrypt_xor(s, k)\n"
   ]
  },
  {
   "cell_type": "markdown",
   "metadata": {},
   "source": [
    "## Challenge 5: Implement repeating-key XOR"
   ]
  },
  {
   "cell_type": "code",
   "execution_count": 8,
   "metadata": {},
   "outputs": [
    {
     "data": {
      "text/plain": [
       "'0b3637272a2b2e63622c2e69692a23693a2a3c6324202d623d63343c2a26226324272765272a282b2f20430a652e2c652a3124333a653e2b2027630c692b20283165286326302e27282f'"
      ]
     },
     "execution_count": 8,
     "metadata": {},
     "output_type": "execute_result"
    }
   ],
   "source": [
    "string = b\"\"\"Burning 'em, if you ain't quick and nimble\n",
    "I go crazy when I hear a cymbal\"\"\"\n",
    "\n",
    "key = b\"ICE\"\n",
    "\n",
    "out = bytes(key[i % len(key)] ^ ch for i, ch in enumerate(string))\n",
    "out.hex()"
   ]
  },
  {
   "cell_type": "markdown",
   "metadata": {},
   "source": [
    "## Challenge 6: Break repeating-key XOR"
   ]
  },
  {
   "cell_type": "code",
   "execution_count": 9,
   "metadata": {},
   "outputs": [],
   "source": [
    "from itertools import zip_longest"
   ]
  },
  {
   "cell_type": "code",
   "execution_count": 10,
   "metadata": {},
   "outputs": [
    {
     "name": "stdout",
     "output_type": "stream",
     "text": [
      "b'\\x1dB\\x1fM\\x0b\\x0f\\x02\\x1fO\\x13N<\\x1aie\\x1fI\\x1c\\x0eN\\x13\\x01\\x0b\\x07N\\x1b\\x01\\x16E6\\x00\\x1e\\x01Id T\\x1d\\x1dC3SNeR\\x06\\x00GT\\x1c\\rEM\\x07\\x04\\x0cS\\x12<\\x0c\\x1e\\x08I\\x1a\\t\\x11O\\x14L!\\x1aG+\\x00\\x05\\x1dGY\\x11\\x04\\t\\x00d&\\x07S\\x007\\x16\\x06\\x0c\\x1a\\x17A\\x1d\\x01RT0_\\x00 \\x13\\n\\x05GO\\x12H\\x08ENe>\\x16\\t8E\\x06\\x05\\x08\\x1aF\\x07O\\x1fYx~jb6\\x0c\\x1d\\x0fA\\rH\\x06U\\x1a\\x1b\\x00\\x1dBt\\x04\\x1e\\x01I\\x1a\\t\\x11\\x02Rz\\x7fI\\x00H:\\x00\\x1a\\x13I\\x1aOEH\\x0f\\x1d\\rS\\x04:\\x01R\\x19\\x01\\x0bA\\x13\\x06\\x00L1_Sb\\x15\\x06\\x07\\t\\x07T\\x0b\\x17A\\x14\\x16Iy35\\x0b\\x1b\\x01\\x05\\x0fF\\x07O\\x1dNxNH\\'R\\x04\\x07\\x0cEXH\\x08A\\x00O T\\x08t\\x0b\\x1d\\x19I\\x02\\x00\\x0e\\x16\\\\\\x00R0ie\\x1fI\\x02\\x02T\\x00\\x01\\x0b\\x07N\\x02\\x10S\\x01&\\x10\\x15M\\x02\\x07\\x02\\x1fO\\x1bNx0i6R\\n\\x01\\tT\\x06\\x07\\tSN\\x02\\x10S\\x08;\\x10\\x06\\x05I\\x0f\\x0f\\x10O;\\x00:_G+\\x1cId3OT\\x02\\x10S\\x1aO\\x05\\x16\\x11t\\x0c\\x06M\\x0f\\x02\\x0e\\x03CRL=N\\x00/\\x0bI\\r\\x08N\\x17\\r\\x15T\\x1dO\\x0e\\x1cE^(\\x0bM\\x19\\x01\\x12\\x07\\nUSxNOb\\x06\\x01\\x0bGS\\x1d\\x0c\\x00\\x00\\x17\\n\\x05\\x1f\\x0c:B^M.\\x01A\"\\x0e\\x1cI4VAb5\\x06OG*~;\\x08O\\x01\\x1b\\x01SB7\\x04\\x07\\x1e\\x0cN\\x15\\x1c\\x0e\\x06\\x07+\\x1aT*\\x17I\\x19\\x06YT!EW\\x07\\x03\\x05S\\x071Ex,\\x07\\nA\\x1d\\tRY7O\\x00&\\x1d\\x07I\\x13\\x00\\x13\\x01\\x13EN\\x0eI\\x17\\x049\\x0b^M\\x1d\\x06\\x04\\x1aOxw0C\\x00;\\x1d\\x1cN\\x14T\\x15\\x1a\\x0cNIO\\x08\\x07E9\\x00Rg:\\x01A\\x13\\n\\x06\\x007\\\\FbU\\n\\x0f\\x12S\\x11H,\\x00\\r\\x00\\x07\\x07\\x17;\\tR\\x19\\x01\\x0bA\\x07\\x1b\\x13G=\\x1a*\\x16\\x1a\\x0c\\x1c\\x02\\x07\\x07H\\x0bON\\x0b\\x00\\x00\\x16=\\x0bUM\\x08\\x02\\r\\x1b\\x18\\x17Dx0ie\\x1fI\\x07\\t\\x00\\x19\\x11EO\\x19\\x01I\\x03\\r5\\x16\\x17Mc:\\t\\x11O\\x15I*VI\\'\\x01I\\x1d\\x06\\x00\\rH\\x11H\\x0b\\x16I\\x1f\\n\"\\x00R\\x00\\x0cN\\x00\\x1a\\x0bRT0[Tb\\x1b\\x1aN\\x08KTb$N\\nO S\\x065\\x0bR\\t\\x08\\x00\\x02\\x11O\\x10E,NE0R\\x1d\\x06\\x06NT\\t\\x0bYN\\x04\\x00\\x17E:BR\\x1d\\x05\\x0f\\x18Texs,[G\\'R[NJ\\rT1\\x00AN\\x1b\\x01\\x16E;\\x0b\\x17M\\x10\\x0fFT\\x18\\x13N6[\\x00.\\x1b\\x1a\\x1a\\x02NT\\x1c\\n\\x00d&\\x1dT\\x16t\\n\\x14\\x0bI\\x03\\x18T\\x07\\x17A<\\x1aS-R\\x05\\x0b\\x13\\x00\\x00\\x00\\x00\\x00\\x0c\\n\\x08\\x07E$\\t\\x13\\x14I\\x1a\\t\\x06\\x00\\x07G0\\x1a*\\x11\\x1dI\\'GC\\x15\\x06EF\\x1b\\x01\\x02S\\x0c E\\x07\\x1dI\\x0f\\x0f\\x10O\\x1fA3_\\x00+\\x06I\\x1d\\x08U\\x1a\\x0cEG\\x01\\x00\\rSoeH@@ZN8\\x1bO_\\rxqN-\\x11\\x02N\\x08NT\\x1b\\nM\\x0bO\\x1e\\x1c\\n0Ex+\\x06\\x1cA\\x13\\x00\\x1dDxVU!\\x19EN.\\x00\\x18\\x01\\x0eEN\\x02\\x10S\\x17<\\x1c\\x1f\\x08\\x1aN\\x00\\x00\\x1d\\x1dC1UU1Rc=\\x12P\\x11\\x1a\\x06A\\x02\\x0e\\x0f\\x01\\x043\\x0c\\x1e\\x04\\x1a\\x1a\\x08\\x17\\n\\nP1[L+\\x16\\x06\\r\\x0eO\\x01\\x1bE*\\'H\\x04S\\x04:E\\x17\\x0b\\x0f\\x0b\\x02\\x00O\\x13N<\\x1aT*\\x13\\x1dN\\x1eO\\x01H\\x06A\\x00O\\x0b\\x16\\x11to;M\\n\\x0f\\x0fT\\x1b\\x13K=\\x1aAb\\x14\\x05\\x17GG\\x1d\\x1a\\t\\x00\\x0f\\x01\\rS\\x085\\x0e\\x17M\\x01\\x0b\\x13T\\x18\\x17Tv\\x1a*H;N\\x03GL\\x1d\\x03\\x00\\x00=\\x0e\\x04\\x00\\n:E_@I=\\x00\\x19\\x1c\\x1dNxNOb6\\x0c\\x02\\x0eL\\x15\\x00E*:\\x07\\x0c\\x01\\x00s\\x16R\\x03\\x06N\\x05\\x11\\x01\\x0bI6\\x1d\\x0cb+\\x06\\x1bGC\\x15\\x06ET\\x1c\\x16I\\x07\\nt\\r\\x13\\x03\\x0eNk6\\x1a\\x06\\x00!UUe\\x1e\\x05N\\x0cE\\x11\\x18ET\\x1c\\x16\\x00\\x1dBt\\x11\\x1dM\\x0e\\x0b\\x15T\\x02\\x0b\\x00+NY.\\x17Id(V\\x11\\x1aEA\\x00\\x0bI\\x1c\\x131\\x17^M\\x19\\x1c\\x00\\x17\\x1b\\x1bC=\\x1aM#\\x19\\x0c\\x1dGP\\x11\\x1a\\x03E\\r\\x1bIy\\'!\\x11R\\x03\\x06\\x1aA\\x1d\\tRY7O\\x070\\x17I\\x0fGL\\x1b\\t\\x03E\\x1cAIyo\\r\\n\\x07J\\x05\\x02A\\x13\\n\\x06\\x006UW*\\x17\\x1b\\x0bK\\x00\\x1a\\x07EP\\x02\\x0e\\n\\x16It\\x0b\\x1dM\\x1d\\x07\\x0c\\x11CRN7\\x1aG+\\x00\\x05\\x1dG*\\'\\x07\\nNNBDS*<E\\x1f\\x14I)\\x0e\\x10CRH7WE \\x1d\\r\\x17K\\x00\\r\\x07\\x10\\x00\\x1e\\x1d\\x06\\x11\\x046\\t\\x0bM\\x0c\\x0f\\x15Te!P9]H\\'\\x06\\x1d\\x07GW\\x1d\\x1c\\r\\x00\\x0fO\\x1a\\x03\\n;\\x0bSM*\\x01\\x0c\\x11O\\x1dNx[N&R\\x1a\\x0f\\x1e\\x00\\x1d\\x1cD\\x00de?:5zE$\\x0c\\x07\\x07\\r\\x18\\x0eRi;_\\x00;\\x17\\x19BGY\\x11\\x18I\\x00\\'H\\x04S\\x06;\\x08\\x1b\\x03NN\\t\\x15\\x1d\\x16\\x004SK\\'R\\x08N\\x15H\\x1d\\x06\\n\\x00d&\\x07\\x07\\n,\\x0c\\x11\\x0c\\x1d\\x07\\x0f\\x13O\\x01OxCO7R\\x1a\\x1a\\x06G\\x13\\r\\x17\\x00\\x02\\x06\\x02\\x16E5E\\x05\\x04\\x07\\x01A~<\\x1d\\x00(ON)\\x01I\\x1d\\x13O\\x04H\\x11R\\x17\\x06\\x07\\x14E5\\x0b\\x16M\\x0e\\x07\\x13\\x18O\\x01T7J\\x00!\\x00\\x10\\x07\\t\\x07Tb3A\\x00\\x06\\x05\\x1f\\x04t,\\x11\\x08I\\x07\\x12T\\x1c\\x17L4SNeR\\x08\\x00\\x03\\x00\\r\\x07\\x10\\x00\\x1e\\n\\x06\\x03\\t1E\\x13\\x1f\\x0cN\\x03\\x01\\x16\\x1bN\\x7f\\x1a*e1\\x08\\x1b\\x14ET\\x1f\\rYN\\x1b\\x01\\x16E2\\x17\\x17\\x0c\\x02\\x1dA\\x15\\x1d\\x17\\x002UC)\\x1b\\x07IGL\\x1d\\x03\\x00\\x00-\\x1d\\x08\\t\\x1ct\"\\x1e\\x18\\x0cNk9\\x00\\x04I6\\x1d\\x00#\\x1c\\rN\\x00R\\x1b\\x07\\x13I\\x00HI\\x07\\x17-\\x0c\\x1c\\nI\\x1a\\x0eT\\x1c\\x1bN?\\x1aA.\\x1d\\x07\\tG*5\\x04\\t\\x00\\x1a\\x07\\x1b\\x1c\\x103\\rR\\x19\\x01\\x0bA\\x13\\x07\\x17T,U\\x00%\\x00\\x06\\x01\\x11I\\x1aOET\\x06\\x06\\x1aS\\r1\\x17\\x17M\\x1a\\x01\\x0f\\x13Oxn7M\\x00;\\x1d\\x1cI\\x15ET\\t\\x08A\\x14\\n\\rS\\x07-E\\x06\\x05\\x0cN7=?RP7IS\\'\\\\Idms\\x00\\r\\x15P\\x07\\x01NS\\x16;E\\x1a\\x0c\\x1b\\nA\\x18\\x06\\x19Ex[\\x00\\x05\\x17\\x1b\\x03\\x06NT&\\x04Z\\x07Oc \\x115\\x17\\x06\\x01\\x0c\\nA\\x16\\x16RT0_\\x00 \\x13\\x1a\\x0b\\x14\\x00\\x1c\\x01\\x11T\\x07\\x01NS\\x02&\\n\\x07\\x03\\rNk \\x07\\x17R=\\x1dSb\\x1c\\x06N\\x13R\\x1d\\x18\\x15I\\x00HI\\x1c\\x0bt\\x08\\x1b\\x03\\x0cBA=H\\x1f\\x002OS6R\\x0e\\x0b\\x13T\\x1d\\x06B\\x00\\n\\x00\\x1e\\x1dE^6\\x02\\x0c\\x1b\\x05\\x00\\x19\\x0e\\x06I;\\x16\\x00\\x0bU\\x04N\\x0fA\\x1a\\x0f\\x0cNIO\\x1d\\x1a\\x02<\\x11R\\x01\\x00\\x05\\x04T\\x0eRF9TA6\\x1b\\nNmy\\x1b\\x1dET\\x1c\\x0e\\x19\\x03\\x000E\\x1f\\x08I\\x01\\x0f\\x17\\nRA6^\\x00\\x0bR\\x1d\\x06\\x08U\\x13\\x00\\x11\\x00\\x1a\\x07\\x08\\x07E^<\\x1d\\x18I\\x03\\x08\\x13\\x07\\x06\\x000[V\\'R\\x00\\x1aG*\\'\\x07ES\\x1a\\n\\x19S\\x01;\\x12\\x1cM\\x08\\x00\\x05T\\x03\\x17N<\\x1aM\\'R\\x10\\x01\\x12RT\\r\\x04RNeNK\\\\t\\x0c\\x1cM\\x04\\x17A\\x00\\x06\\x1fEy\\x1ay-\\x07EN@\\x19DH\\x0cSN\\x02\\x10S\\x1c1\\x04\\x00CIdk-\\x00\\x07\\x07*_\\x005\\x17\\x08\\x05\\x02N\\x1d\\x06B\\x00\\x08\\x0e\\x1a\\x07It<=LI\\x0f\\x0f\\x10O;\\x00;[Nb\\x06\\x0c\\x02\\x0b\\x00\\x1d\\x1cE*7\\x00\\x1c\\x01E6\\n\\x16\\x14N\\x1dA\\x13\\n\\x06T1T\\x07b\\x1a\\x06\\x1aK\\x00\\x07\\x07I\\x00\\x1d\\x00I:E7\\x04\\x1cM\\x1a\\x03\\x04\\x18\\x03RI,\\x1a*\\x11\\x1dI\\n\\x08NS\\x1cEB\\x0bO\\x04\\x12\\x01t\\x04\\x1c\\tI\\n\\x0e\\x1aH\\x06\\x00:_\\x001\\x13\\rNm\\x077\\t\\x10S\\x0bO\\x1d\\x1b\\x00t\\t\\x0b\\x1f\\x00\\r\\x12T\\r\\x17L7TGb\\x06\\x06N.c1DEy\\x01\\x1aI\\x10\\x04:E\\x11\\x0c\\x05\\x02A\\x19\\nRd9^\\x00H+\\x06\\x1b@R\\x11H\\x15I\\x1a\\x0c\\x01\\x1a\\x0bsE\\x13M\\x0f\\x07\\x15XO\\x01OxIT\\'\\x02I\\x0c\\x06C\\x1fH\\x04N\\nO\\x0c\\x1d\\x01!\\x17\\x17Mc\"\\x04\\x00O\\x06H=\\x1aW+\\x06\\n\\x06GD\\x1b\\x0b\\x11O\\x1cCI:\\x061IR\\t\\x06N\\x15\\x1c\\nRD9TC\\'R\\x1d\\x01GC\\x01\\x1a\\x00\\x00d<\\x06S\\x06;\\x08\\x17M\\x1c\\x1eA\\x17\\x03\\x1dS=\\x1aA,\\x16I\\n\\x08NS\\x1cEB\\x0bO\\x1a\\x02\\x105\\x17\\x17Mc7\\x0e\\x01O\\x05A6TAb\\x10\\x08\\x1a\\x13L\\x11H\\x08ENBDS$:\\x1c\\x06\\x04\\x04\\x0bMT\\x0e\\x1cY/RE0\\x17Idmy\\x1b\\x1dET\\x06\\x00\\x1c\\x14\\r E\\x06\\x05\\x08\\x1aA=O\\x05A+\\x1aW\\'\\x13\\x02BGb\\x1b\\x11I\\x00\\x17\\x00\\x1cT\\x171E\\x16\\x08\\x08\\nA\\x03\\x1d\\x1dN?\\x1a*\\x11\\x1dI\\r\\x08M\\x11H\\nNBO\\x0c\\x05\\x00&\\x1c\\x10\\x02\\r\\x17A\\x15\\x01\\x16\\x00+SN%R\\x1d\\x06\\x0eST\\x1b\\nN\\tOcy65\\x1cR@DN1\\x18\\x0e\\x0b\\x00,RA6R\\x0f\\x1b\\tK\\rH\\x08U\\x1d\\x06\\nS65\\x1c^M\\x0e\\x01A\\x03\\x07\\x1bT=\\x1aB-\\x0bEN\\x00OT\\x1f\\rI\\x1a\\nI\\x11\\n-E\\x15\\x02Id\\x11\\x18\\x0e\\x0b\\x00,RA6R\\x0f\\x1b\\tK\\rH\\x08U\\x1d\\x06\\nS\";E\\x05\\x05\\x00\\x1a\\x04T\\r\\x1dYt\\x1aG-R\\x1e\\x06\\x0eT\\x11H\\x07O\\x17CI\\x14\\nto>\\x0c\\x10N\\x05\\x1b\\x18\\x1c\\x009TDb\\x10\\x06\\x01\\x00I\\x11H\\x04N\\nO\\x19\\x1f\\x04-E\\x06\\x05\\x08\\x1aA\\x12\\x1a\\x1cK!\\x1aM7\\x01\\x00\\rGT\\x1d\\x04\\t\\x00\\x17\\x00\\x1cS\\x01=\\x00\\\\Mcd1\\x18\\x0e\\x0b\\x00,RA6R\\x0f\\x1b\\tK\\rH\\x08U\\x1d\\x06\\nS&;\\x08\\x17M\\x06\\x00MT,\\x1dM=\\x1aO,^I\\x02\\x02TT\\x05\\x00\\x00\\x06\\n\\x08\\x01E^5\\x1e\\x0c\\x10N\\x15\\x1c\\x0e\\x06\\x00>ON)\\x0bI\\x03\\x12S\\x1d\\x0bEW\\x06\\x06\\x1d\\x16E6\\n\\x0bM\\x10\\x01\\x14T\\x1c\\x13YxSTnR\\x1a\\x0f\\x1e\\x00\\x1d\\x1cE*>\\x03\\x08\\nE \\r\\x13\\x19I\\x08\\x14\\x1a\\x04\\x0b\\x005OS+\\x11I/GL\\x1d\\x1c\\x11L\\x0bO\\x05\\x1c\\x100\\x00\\x00M\\x07\\x01\\x16Te\"L9C\\x006\\x1a\\x08\\x1aGF\\x01\\x06\\x0eYN\\x02\\x1c\\x00\\x0c7IR\\x1a\\x01\\x07\\x15\\x11O\\x10O!\\x1ac-\\x1f\\x0cN\\x08NXH&O\\x03\\nI\\x1c\\x0bxE1\\x02\\x04\\x0bA\\x1b\\x01R*\\x08VA;R\\x1d\\x06\\x06TT\\x0e\\x10N\\x05\\x16I\\x1e\\x10\\'\\x0c\\x11Mc'\n"
     ]
    }
   ],
   "source": [
    "string = base64.b64decode(open(\"challenge-data/6.txt\").read())\n",
    "print(string)"
   ]
  },
  {
   "cell_type": "code",
   "execution_count": 11,
   "metadata": {},
   "outputs": [],
   "source": [
    "def hamming_distance(a, b):\n",
    "    return sum((x ^ y).bit_count() for x, y in zip_longest(a, b, fillvalue=0))\n",
    "\n",
    "assert hamming_distance(b\"this is a test\", b\"wokka wokka!!!\") == 37"
   ]
  },
  {
   "cell_type": "code",
   "execution_count": 12,
   "metadata": {},
   "outputs": [
    {
     "name": "stdout",
     "output_type": "stream",
     "text": [
      "[(2.7593244194229416, 29), (2.783045977011494, 58), (2.785201149425288, 87), (3.1492537313432836, 67), (3.152560455192034, 38), (3.163059163059163, 84), (3.1643356643356664, 13), (3.1646471846044193, 61), (3.1652690426275334, 9), (3.165379213483146, 16)]\n"
     ]
    },
    {
     "data": {
      "text/plain": [
       "29"
      ]
     },
     "execution_count": 12,
     "metadata": {},
     "output_type": "execute_result"
    }
   ],
   "source": [
    "guesses = []\n",
    "\n",
    "for keysize in range(2, 90):\n",
    "    distance_total = 0\n",
    "    pairs_processed = 0\n",
    "    for idx in range(0, len(string) // keysize - 1):\n",
    "        chunk_a = string[idx * keysize:(idx + 1) * keysize]\n",
    "        chunk_b = string[(idx + 1) * keysize:(idx + 2) * keysize]\n",
    "        distance_total += hamming_distance(chunk_a, chunk_b) / keysize\n",
    "        pairs_processed += 1\n",
    "    avg = distance_total / pairs_processed\n",
    "    guesses.append((avg, keysize))\n",
    "\n",
    "guesses.sort()\n",
    "best_guess = guesses[0][1]\n",
    "print(guesses[:10])\n",
    "\n",
    "best_guess"
   ]
  },
  {
   "cell_type": "code",
   "execution_count": 13,
   "metadata": {},
   "outputs": [
    {
     "data": {
      "text/plain": [
       "'Terminator X: Bring the noise'"
      ]
     },
     "execution_count": 13,
     "metadata": {},
     "output_type": "execute_result"
    }
   ],
   "source": [
    "groups = [b\"\" for _ in range(best_guess)]\n",
    "\n",
    "for i in range(len(string)):\n",
    "    groups[i % best_guess] += bytes([string[i]])\n",
    "\n",
    "key = \"\"\n",
    "for g in groups:\n",
    "    _, ch = break_single_character_xor(g)\n",
    "    key += chr(ch)\n",
    "key"
   ]
  },
  {
   "cell_type": "code",
   "execution_count": 14,
   "metadata": {},
   "outputs": [
    {
     "data": {
      "text/plain": [
       "\"I'm back and I'm ringin' the bell \\nA rockin' on the mike while the fly girls yell \\nIn ecstasy in the back of me \\nWell that's my DJ Deshay cuttin' all them Z's \\nHittin' hard and the girlies goin' crazy \\nVanilla's on the mike, man I'm not lazy. \\n\\nI'm lettin' my drug kick in \\nIt controls my mouth and I begin \\nTo just let it flow, let my concepts go \\nMy posse's to the side yellin', Go Vanilla Go! \\n\\nSmooth 'cause that's the way I will be \\nAnd if you don't give a damn, then \\nWhy you starin' at me \\nSo get off 'cause I control the stage \\nThere's no dissin' allowed \\nI'm in my own phase \\nThe girlies sa y they love me and that is ok \\nAnd I can dance better than any kid n' play \\n\\nStage 2 -- Yea the one ya' wanna listen to \\nIt's off my head so let the beat play through \\nSo I can funk it up and make it sound good \\n1-2-3 Yo -- Knock on some wood \\nFor good luck, I like my rhymes atrocious \\nSupercalafragilisticexpialidocious \\nI'm an effect and that you can bet \\nI can take a fly girl and make her wet. \\n\\nI'm like Samson -- Samson to Delilah \\nThere's no denyin', You can try to hang \\nBut you'll keep tryin' to get my style \\nOver and over, practice makes perfect \\nBut not if you're a loafer. \\n\\nYou'll get nowhere, no place, no time, no girls \\nSoon -- Oh my God, homebody, you probably eat \\nSpaghetti with a spoon! Come on and say it! \\n\\nVIP. Vanilla Ice yep, yep, I'm comin' hard like a rhino \\nIntoxicating so you stagger like a wino \\nSo punks stop trying and girl stop cryin' \\nVanilla Ice is sellin' and you people are buyin' \\n'Cause why the freaks are jockin' like Crazy Glue \\nMovin' and groovin' trying to sing along \\nAll through the ghetto groovin' this here song \\nNow you're amazed by the VIP posse. \\n\\nSteppin' so hard like a German Nazi \\nStartled by the bases hittin' ground \\nThere's no trippin' on mine, I'm just gettin' down \\nSparkamatic, I'm hangin' tight like a fanatic \\nYou trapped me once and I thought that \\nYou might have it \\nSo step down and lend me your ear \\n'89 in my time! You, '90 is my year. \\n\\nYou're weakenin' fast, YO! and I can tell it \\nYour body's gettin' hot, so, so I can smell it \\nSo don't be mad and don't be sad \\n'Cause the lyrics belong to ICE, You can call me Dad \\nYou're pitchin' a fit, so step back and endure \\nLet the witch doctor, Ice, do the dance to cure \\nSo come up close and don't be square \\nYou wanna battle me -- Anytime, anywhere \\n\\nYou thought that I was weak, Boy, you're dead wrong \\nSo come on, everybody and sing this song \\n\\nSay -- Play that funky music Say, go white boy, go white boy go \\nplay that funky music Go white boy, go white boy, go \\nLay down and boogie and play that funky music till you die. \\n\\nPlay that funky music Come on, Come on, let me hear \\nPlay that funky music white boy you say it, say it \\nPlay that funky music A little louder now \\nPlay that funky music, white boy Come on, Come on, Come on \\nPlay that funky music \\n\""
      ]
     },
     "execution_count": 14,
     "metadata": {},
     "output_type": "execute_result"
    }
   ],
   "source": [
    "from itertools import cycle\n",
    "\n",
    "def decrypt_long_xor(s, key):\n",
    "    return bytes([c ^ k for c, k in zip(s, cycle(key))])\n",
    "\n",
    "decrypt_long_xor(string, key.encode(\"ascii\")).decode()"
   ]
  },
  {
   "cell_type": "markdown",
   "metadata": {},
   "source": [
    "## Challenge 7: AES in ECB mode"
   ]
  },
  {
   "cell_type": "code",
   "execution_count": 15,
   "metadata": {},
   "outputs": [
    {
     "data": {
      "text/plain": [
       "b\"I'm back and I'm ringin' the bell \\nA rockin' on the mike while the fly girls yell \\nIn ecstasy in the back of me \\nWell that's my DJ Deshay cuttin' all them Z's \\nHittin' hard and the girlies goin' crazy \\nVanilla's on the mike, man I'm not lazy. \\n\\nI'm lettin' my drug kick in \\nIt controls my mouth and I begin \\nTo just let it flow, let my concepts go \\nMy posse's to the side yellin', Go Vanilla Go! \\n\\nSmooth 'cause that's the way I will be \\nAnd if you don't give a damn, then \\nWhy you starin' at me \\nSo get off 'cause I control the stage \\nThere's no dissin' allowed \\nI'm in my own phase \\nThe girlies sa y they love me and that is ok \\nAnd I can dance better than any kid n' play \\n\\nStage 2 -- Yea the one ya' wanna listen to \\nIt's off my head so let the beat play through \\nSo I can funk it up and make it sound good \\n1-2-3 Yo -- Knock on some wood \\nFor good luck, I like my rhymes atrocious \\nSupercalafragilisticexpialidocious \\nI'm an effect and that you can bet \\nI can take a fly girl and make her wet. \\n\\nI'm like Samson -- Samson to Delilah \\nThere's no denyin', You can try to hang \\nBut you'll keep tryin' to get my style \\nOver and over, practice makes perfect \\nBut not if you're a loafer. \\n\\nYou'll get nowhere, no place, no time, no girls \\nSoon -- Oh my God, homebody, you probably eat \\nSpaghetti with a spoon! Come on and say it! \\n\\nVIP. Vanilla Ice yep, yep, I'm comin' hard like a rhino \\nIntoxicating so you stagger like a wino \\nSo punks stop trying and girl stop cryin' \\nVanilla Ice is sellin' and you people are buyin' \\n'Cause why the freaks are jockin' like Crazy Glue \\nMovin' and groovin' trying to sing along \\nAll through the ghetto groovin' this here song \\nNow you're amazed by the VIP posse. \\n\\nSteppin' so hard like a German Nazi \\nStartled by the bases hittin' ground \\nThere's no trippin' on mine, I'm just gettin' down \\nSparkamatic, I'm hangin' tight like a fanatic \\nYou trapped me once and I thought that \\nYou might have it \\nSo step down and lend me your ear \\n'89 in my time! You, '90 is my year. \\n\\nYou're weakenin' fast, YO! and I can tell it \\nYour body's gettin' hot, so, so I can smell it \\nSo don't be mad and don't be sad \\n'Cause the lyrics belong to ICE, You can call me Dad \\nYou're pitchin' a fit, so step back and endure \\nLet the witch doctor, Ice, do the dance to cure \\nSo come up close and don't be square \\nYou wanna battle me -- Anytime, anywhere \\n\\nYou thought that I was weak, Boy, you're dead wrong \\nSo come on, everybody and sing this song \\n\\nSay -- Play that funky music Say, go white boy, go white boy go \\nplay that funky music Go white boy, go white boy, go \\nLay down and boogie and play that funky music till you die. \\n\\nPlay that funky music Come on, Come on, let me hear \\nPlay that funky music white boy you say it, say it \\nPlay that funky music A little louder now \\nPlay that funky music, white boy Come on, Come on, Come on \\nPlay that funky music \\n\\x04\\x04\\x04\\x04\""
      ]
     },
     "execution_count": 15,
     "metadata": {},
     "output_type": "execute_result"
    }
   ],
   "source": [
    "from cryptography.hazmat.primitives.ciphers import Cipher, algorithms, modes\n",
    "\n",
    "text = b''.join(base64.b64decode(line) for line in open(\"challenge-data/7.txt\").readlines())\n",
    "\n",
    "key = b\"YELLOW SUBMARINE\"\n",
    "\n",
    "def decrypt_aes(text, key):\n",
    "    return Cipher(algorithms.AES(key), modes.ECB()).decryptor().update(text)\n",
    "\n",
    "decrypt_aes(text, key)"
   ]
  },
  {
   "cell_type": "markdown",
   "metadata": {},
   "source": [
    "## Challenge 8: Detect AES in ECB mode"
   ]
  },
  {
   "cell_type": "code",
   "execution_count": 20,
   "metadata": {},
   "outputs": [
    {
     "name": "stdout",
     "output_type": "stream",
     "text": [
      "{160}\n",
      "10 b'\\x8a\\x10$\\x7f\\x90\\xd0\\xa0U8\\x88\\x8a\\xd6 X\\x82\\x19o_m\\x05\\xc2\\x1e\\xc8\\xdc\\xa0\\xcb\\x0b\\xe0,?\\x8b\\t\\xe3\\x82\\x96?D:\\xa5\\x14\\xda\\xa5\\x01%{\\t\\xa3k\\xf8\\xc4\\xc3\\x92\\xd8\\xca\\x1b\\xf49_\\r_%B\\x14\\x8c~_\\xf2\"7\\x96\\x98t\\xbff\\xcb\\x855~\\xf9\\x99V\\xac\\xcf\\x13\\xba\\x1a\\xf3l\\xa7\\xa9\\x1aPS<M\\x89\\xb75?\\x90\\x8cZ\\x16gt);\\x0b\\xf6$s\\x91\\xdfi\\xc8}\\xac\\xc4\\x12Z\\x99\\xecAr!\\xb5\\x81p\\xe638\\x1e8G\\xc6\\xb1\\xc2\\x8d\\xda)\\x13\\xc0\\x11\\xe1?\\xc4@o\\x8f\\xe7;\\xbfx\\xe8\\x03\\xe1\\xd9\\x95\\xceM'\n",
      "b'E\\xfeU\\xa71)n\\x8c\\x10=\\x13\\xa3\\xe7\\xfc\\x7f\\x88\\xda\\xef\\x02\\xf1\\xb2q\\xf2aFU\\xe6\\x04\\xa0\\xa4\\x89b\\xb8\\x00]E\\x90\\x85oH\\x12\\x95M>9/\\xbfd\\x97\\x03x\\xc4\\xf1\\x1f\\x8f\\x949\\xb6\\xbd\\x19\\x06\\xcb\"\\xa2\\xb6/\\x95\\xbb\\x02\\\\O\\xc4\\x8a\\x9d\\xf2\\xeb\\xc9\\x12\\x9f\\xf4\\xad\\'\\x8f\\'\\xd0\\xafe\\xbcm_\\x16\\x865e\\x00\\xc4\\xb1?\\x0bK\\xb7\\xd8\\x85H\\'\\x02\\x13\\xc9H^\\x98\\x98G[\\xe7B\\x87\\xafmo\\xc8\\xb1\\xdb.\\xbe\\x10;\\x13\\x14Zb\\xba\\xfe\\x04F\\x02\\xd7C$\\x8e\\x8bh\\'\\xf4v\\xdb\\x11\\x00_}5\\x8eI\\xf1M\\xcd\\xd5<M\\''\n",
      "7 b'\\xd8\\x80a\\x97@\\xa8\\xa1\\x9bx@\\xa8\\xa3\\x1c\\x81\\n=\\x08d\\x9a\\xf7\\r\\xc0oO\\xd5\\xd2\\xd6\\x9ctL\\xd2\\x83\\xe2\\xdd\\x05/kd\\x1d\\xbf\\x9d\\x11\\xb04\\x85B\\xbbW\\x08d\\x9a\\xf7\\r\\xc0oO\\xd5\\xd2\\xd6\\x9ctL\\xd2\\x83\\x94u\\xc9\\xdf\\xdb\\xc1\\xd4e\\x97\\x94\\x9d\\x9c~\\x82\\xbfZ\\x08d\\x9a\\xf7\\r\\xc0oO\\xd5\\xd2\\xd6\\x9ctL\\xd2\\x83\\x97\\xa9>\\xab\\x8dj\\xec\\xd5fH\\x91Tx\\x9ak\\x03\\x08d\\x9a\\xf7\\r\\xc0oO\\xd5\\xd2\\xd6\\x9ctL\\xd2\\x83\\xd4\\x03\\x18\\x0c\\x98\\xc8\\xf6\\xdb\\x1f*?\\x9c@@\\xde\\xb0\\xabQ\\xb2\\x993\\xf2\\xc1#\\xc5\\x83\\x86\\xb0o\\xba\\x18j'\n",
      "b'M\\x1d\\x99\\x1c\\rW\\xf5\\xd4\\xd9\\x03:\\xbfX\\x15\\xdd\\xbd\\xce\\xb8\\xd6\\xf9\\xc1\\xc4\\x1f\\x1e\\xbb\\x951\\x8d\\xa9\\xdf\\x8b+\\xc2*\\xc7\\xee\\xd1\\xc6\\xc0\\x7f\\xa3(\\x9b@F\\x05\\xa98\\xce\\xb8\\xd6\\xf9\\xc1\\xc4\\x1f\\x1e\\xbb\\x951\\x8d\\xa9\\xdf\\x8b+Ln\\xc6Yk\\xdbh~\\x1d\\xe5\\xf0V\\x84\\xd7\\xd3\\x84\\xce\\xb8\\xd6\\xf9\\xc1\\xc4\\x1f\\x1e\\xbb\\x951\\x8d\\xa9\\xdf\\x8b+s\\xe3\\xd0\\xf8\\xa3\\x19;\\xa85\\xb7.J\\x03I\\xa2^\\xce\\xb8\\xd6\\xf9\\xc1\\xc4\\x1f\\x1e\\xbb\\x951\\x8d\\xa9\\xdf\\x8b+\\xe5%02]D\\xac\\xb8\\xe2\\xe0\\xc48\\x0f\\xb6Rus\\xa4<9\\xb1\\x81\\xe2\\xdcg\\x8a\\xa2%\\x17\\xafCd'\n",
      "Counter({10: 203, 7: 1})\n"
     ]
    }
   ],
   "source": [
    "lines = [bytes.fromhex(buf) for buf in open(\"challenge-data/8.txt\").readlines()]\n",
    "\n",
    "print(set(len(line) for line in lines))\n",
    "\n",
    "d = Counter()\n",
    "for line in lines:\n",
    "    blocks = set()\n",
    "    for i in range(len(line) // 16):\n",
    "        block = line[i * 16: (i + 1) * 16]\n",
    "        blocks.add(block)\n",
    "    l = len(blocks)\n",
    "    if l not in d:\n",
    "        print(l, line)\n",
    "    d[l] += 1\n",
    "print(d)"
   ]
  },
  {
   "cell_type": "code",
   "execution_count": null,
   "metadata": {},
   "outputs": [],
   "source": []
  }
 ],
 "metadata": {
  "kernelspec": {
   "display_name": "Python 3",
   "language": "python",
   "name": "python3"
  },
  "language_info": {
   "codemirror_mode": {
    "name": "ipython",
    "version": 3
   },
   "file_extension": ".py",
   "mimetype": "text/x-python",
   "name": "python",
   "nbconvert_exporter": "python",
   "pygments_lexer": "ipython3",
   "version": "3.12.6"
  }
 },
 "nbformat": 4,
 "nbformat_minor": 4
}
