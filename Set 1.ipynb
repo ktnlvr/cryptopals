{
 "cells": [
  {
   "cell_type": "markdown",
   "metadata": {},
   "source": [
    "# Set 1"
   ]
  },
  {
   "cell_type": "code",
   "execution_count": 26,
   "metadata": {},
   "outputs": [
    {
     "name": "stdout",
     "output_type": "stream",
     "text": [
      "Requirement already satisfied: numpy in c:\\users\\ktnlvr\\appdata\\local\\programs\\python\\python312\\lib\\site-packages (2.1.1)\n",
      "Requirement already satisfied: scipy in c:\\users\\ktnlvr\\appdata\\local\\programs\\python\\python312\\lib\\site-packages (1.14.1)\n",
      "Note: you may need to restart the kernel to use updated packages.\n"
     ]
    }
   ],
   "source": [
    "%pip install numpy scipy"
   ]
  },
  {
   "cell_type": "code",
   "execution_count": 27,
   "metadata": {},
   "outputs": [],
   "source": [
    "import base64\n",
    "from string import ascii_letters, printable\n",
    "from collections import Counter\n",
    "import numpy as np\n",
    "import scipy"
   ]
  },
  {
   "cell_type": "code",
   "execution_count": 28,
   "metadata": {},
   "outputs": [],
   "source": [
    "hamlet = open(\"hamlet.txt\").read()\n",
    "\n",
    "def letter_freq(text) -> dict:\n",
    "    return dict(Counter([x.lower() for x in text if x in ascii_letters]))\n",
    "\n",
    "hamlet_freq = letter_freq(hamlet)\n",
    "hamlet_freq_arr = np.array(list(hamlet_freq.values()))"
   ]
  },
  {
   "cell_type": "markdown",
   "metadata": {},
   "source": [
    "## Challenge 1: Convert hex to base64"
   ]
  },
  {
   "cell_type": "code",
   "execution_count": 33,
   "metadata": {},
   "outputs": [
    {
     "data": {
      "text/plain": [
       "b'SSdtIGtpbGxpbmcgeW91ciBicmFpbiBsaWtlIGEgcG9pc29ub3VzIG11c2hyb29t'"
      ]
     },
     "execution_count": 33,
     "metadata": {},
     "output_type": "execute_result"
    }
   ],
   "source": [
    "string = \"49276d206b696c6c696e6720796f757220627261696e206c696b65206120706f69736f6e6f7573206d757368726f6f6d\"\n",
    "bs = bytes.fromhex(string)\n",
    "b64 = base64.b64encode(bs)\n",
    "b64"
   ]
  },
  {
   "cell_type": "markdown",
   "metadata": {},
   "source": [
    "## Challenge 2: Fixed XOR"
   ]
  },
  {
   "cell_type": "code",
   "execution_count": 34,
   "metadata": {},
   "outputs": [
    {
     "data": {
      "text/plain": [
       "'746865206b696420646f6e277420706c6179'"
      ]
     },
     "execution_count": 34,
     "metadata": {},
     "output_type": "execute_result"
    }
   ],
   "source": [
    "a = bytes.fromhex(\"1c0111001f010100061a024b53535009181c\")\n",
    "b = bytes.fromhex(\"686974207468652062756c6c277320657965\")\n",
    "\n",
    "bytes([a ^ b for a, b in zip(a, b)]).hex()"
   ]
  },
  {
   "cell_type": "markdown",
   "metadata": {},
   "source": [
    "## Challenge 3: Single-byte XOR cipher"
   ]
  },
  {
   "cell_type": "code",
   "execution_count": 58,
   "metadata": {},
   "outputs": [
    {
     "data": {
      "text/plain": [
       "b\"Cooking MC's like a pound of bacon\""
      ]
     },
     "execution_count": 58,
     "metadata": {},
     "output_type": "execute_result"
    }
   ],
   "source": [
    "import scipy.stats\n",
    "\n",
    "\n",
    "string = \"1b37373331363f78151b7f2b783431333d78397828372d363c78373e783a393b3736\"\n",
    "bs = bytes.fromhex(string)\n",
    "\n",
    "strings = []\n",
    "for ch in ascii_letters:\n",
    "    new = bytes([b ^ ord(ch) for b in bs])\n",
    "    strings.append(new)\n",
    "\n",
    "def score(bstr):\n",
    "    if any(chr(x) not in printable or chr(x) in \"{}()\" for x in bstr):\n",
    "        return -1\n",
    "    freq = letter_freq(bstr.decode(\"ascii\").lower())\n",
    "    freq_arr = np.array(list(freq.values()))\n",
    "    legit_text_statistic = len(bstr) - sum([1 for x in bstr if chr(x) not in ascii_letters + \".,?!' \"])\n",
    "    ks_test_2 = scipy.stats.ks_2samp(hamlet_freq_arr, freq_arr).pvalue ** 2\n",
    "    return legit_text_statistic / ks_test_2\n",
    "    \n",
    "\n",
    "strings.sort(key=score, reverse=True)\n",
    "strings[0]"
   ]
  },
  {
   "cell_type": "markdown",
   "metadata": {},
   "source": [
    "## Challenge 4: Detect single-character XOR"
   ]
  },
  {
   "cell_type": "code",
   "execution_count": 56,
   "metadata": {},
   "outputs": [
    {
     "data": {
      "text/plain": [
       "b'Now that the party is jumping\\n'"
      ]
     },
     "execution_count": 56,
     "metadata": {},
     "output_type": "execute_result"
    }
   ],
   "source": [
    "bs = [bytes.fromhex(s) for s in open(\"challenge-data/4.txt\").readlines()]\n",
    "\n",
    "guesses = []\n",
    "for string in bs:\n",
    "    for ch in range(255):\n",
    "        new = bytes([b ^ ch for b in string])\n",
    "        s = score(new)\n",
    "        guesses.append((s, new))\n",
    "guesses.sort(reverse=True)\n",
    "\n",
    "guesses[0][1]"
   ]
  }
 ],
 "metadata": {
  "kernelspec": {
   "display_name": "Python 3",
   "language": "python",
   "name": "python3"
  },
  "language_info": {
   "codemirror_mode": {
    "name": "ipython",
    "version": 3
   },
   "file_extension": ".py",
   "mimetype": "text/x-python",
   "name": "python",
   "nbconvert_exporter": "python",
   "pygments_lexer": "ipython3",
   "version": "3.12.6"
  }
 },
 "nbformat": 4,
 "nbformat_minor": 2
}
